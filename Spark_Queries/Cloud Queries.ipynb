{
 "cells": [
  {
   "cell_type": "code",
   "execution_count": 1,
   "metadata": {},
   "outputs": [
    {
     "data": {
      "text/html": [
       "\n",
       "        <div>\n",
       "            <p><b>SparkContext</b></p>\n",
       "\n",
       "            <p><a href=\"http://DESKTOP-TCEG3TB:4040\">Spark UI</a></p>\n",
       "\n",
       "            <dl>\n",
       "              <dt>Version</dt>\n",
       "                <dd><code>v2.3.0</code></dd>\n",
       "              <dt>Master</dt>\n",
       "                <dd><code>local[*]</code></dd>\n",
       "              <dt>AppName</dt>\n",
       "                <dd><code>PySparkShell</code></dd>\n",
       "            </dl>\n",
       "        </div>\n",
       "        "
      ],
      "text/plain": [
       "<SparkContext master=local[*] appName=PySparkShell>"
      ]
     },
     "execution_count": 1,
     "metadata": {},
     "output_type": "execute_result"
    }
   ],
   "source": [
    "sc"
   ]
  },
  {
   "cell_type": "code",
   "execution_count": 2,
   "metadata": {},
   "outputs": [],
   "source": [
    "import findspark\n",
    "findspark.init()"
   ]
  },
  {
   "cell_type": "code",
   "execution_count": 3,
   "metadata": {},
   "outputs": [],
   "source": [
    "from pyspark.sql import SparkSession"
   ]
  },
  {
   "cell_type": "code",
   "execution_count": 4,
   "metadata": {},
   "outputs": [],
   "source": [
    "from pyspark.sql import SQLContext\n",
    "from pyspark.sql.types import *\n",
    "sqlContext = SQLContext(sc)"
   ]
  },
  {
   "cell_type": "code",
   "execution_count": 5,
   "metadata": {},
   "outputs": [],
   "source": [
    "books = sqlContext.read.csv('books.csv',header=True)"
   ]
  },
  {
   "cell_type": "code",
   "execution_count": 6,
   "metadata": {},
   "outputs": [
    {
     "name": "stdout",
     "output_type": "stream",
     "text": [
      "+---+--------+------------+--------+-----------+----------+--------+--------------------+-------------------------+--------------------+--------------------+-------------+--------------+-------------+------------------+-----------------------+---------+---------+---------+---------+---------+--------------------+--------------------+\n",
      "| id| book_id|best_book_id| work_id|books_count|      isbn|  isbn13|             authors|original_publication_year|      original_title|               title|language_code|average_rating|ratings_count|work_ratings_count|work_text_reviews_count|ratings_1|ratings_2|ratings_3|ratings_4|ratings_5|           image_url|     small_image_url|\n",
      "+---+--------+------------+--------+-----------+----------+--------+--------------------+-------------------------+--------------------+--------------------+-------------+--------------+-------------+------------------+-----------------------+---------+---------+---------+---------+---------+--------------------+--------------------+\n",
      "|  1| 2767052|     2767052| 2792775|        272| 439023483|9.78E+12|     Suzanne Collins|                     2008|    The Hunger Games|The Hunger Games ...|          eng|          4.34|      4780653|           4942365|                 155254|    66715|   127936|   560092|  1481305|  2706317|https://images.gr...|https://images.gr...|\n",
      "|  2|       3|           3| 4640799|        491| 439554934|9.78E+12|J.K. Rowling  Mar...|                     1997|Harry Potter and ...|Harry Potter and ...|          eng|          4.44|      4602479|           4800065|                  75867|    75504|   101676|   455024|  1156318|  3011543|https://images.gr...|https://images.gr...|\n",
      "|  3|   41865|       41865| 3212258|        226| 316015849|9.78E+12|     Stephenie Meyer|                     2005|            Twilight|Twilight (Twiligh...|        en-US|          3.57|      3866839|           3916824|                  95009|   456191|   436802|   793319|   875073|  1355439|https://images.gr...|https://images.gr...|\n",
      "|  4|    2657|        2657| 3275794|        487|  61120081|9.78E+12|          Harper Lee|                     1960|To Kill a Mocking...|To Kill a Mocking...|          eng|          4.25|      3198671|           3340896|                  72586|    60427|   117415|   446835|  1001952|  1714267|https://images.gr...|https://images.gr...|\n",
      "|  5|    4671|        4671|  245494|       1356| 743273567|9.78E+12| F. Scott Fitzgerald|                     1925|    The Great Gatsby|    The Great Gatsby|          eng|          3.89|      2683664|           2773745|                  51992|    86236|   197621|   606158|   936012|   947718|https://images.gr...|https://images.gr...|\n",
      "|  6|11870085|    11870085|16827462|        226| 525478817|9.78E+12|          John Green|                     2012|The Fault in Our ...|The Fault in Our ...|          eng|          4.26|      2346404|           2478609|                 140739|    47994|    92723|   327550|   698471|  1311871|https://images.gr...|https://images.gr...|\n",
      "|  7|    5907|        5907| 1540236|        969| 618260307|9.78E+12|      J.R.R. Tolkien|                     1937|The Hobbit or The...|          The Hobbit|        en-US|          4.25|      2071616|           2196809|                  37653|    46023|    76784|   288649|   665635|  1119718|https://images.gr...|https://images.gr...|\n",
      "|  8|    5107|        5107| 3036731|        360| 316769177|9.78E+12|       J.D. Salinger|                     1951|The Catcher in th...|The Catcher in th...|          eng|          3.79|      2044241|           2120637|                  44920|   109383|   185520|   455042|   661516|   709176|https://images.gr...|https://images.gr...|\n",
      "|  9|     960|         960| 3338963|        311|1416524797|9.78E+12|           Dan Brown|                     2000|    Angels & Demons |Angels & Demons  ...|        en-CA|          3.85|      2001311|           2078754|                  25112|    77841|   145740|   458429|   716569|   680175|https://images.gr...|https://images.gr...|\n",
      "| 10|    1885|        1885| 3060926|       3455| 679783261|9.78E+12|         Jane Austen|                     1813| Pride and Prejudice| Pride and Prejudice|          eng|          4.24|      2035490|           2191465|                  49152|    54700|    86485|   284852|   609755|  1155673|https://images.gr...|https://images.gr...|\n",
      "| 11|   77203|       77203| 3295919|        283|1594480001|9.78E+12|     Khaled Hosseini|                     2003|    The Kite Runner |     The Kite Runner|          eng|          4.26|      1813044|           1878095|                  59730|    34288|    59980|   226062|   628174|   929591|https://images.gr...|https://images.gr...|\n",
      "| 12|13335037|    13335037|13155899|        210|  62024035|9.78E+12|       Veronica Roth|                     2011|           Divergent|Divergent (Diverg...|          eng|          4.24|      1903563|           2216814|                 101023|    36315|    82870|   310297|   673028|  1114304|https://images.gr...|https://images.gr...|\n",
      "| 13|    5470|        5470|  153313|        995| 451524934|9.78E+12|George Orwell  Er...|                     1949|Nineteen Eighty-Four|                1984|          eng|          4.14|      1956832|           2053394|                  45518|    41845|    86425|   324874|   692021|   908229|https://images.gr...|https://images.gr...|\n",
      "| 14|    7613|        7613| 2207778|        896| 452284244|9.78E+12|       George Orwell|                     1945|Animal Farm: A Fa...|         Animal Farm|          eng|          3.87|      1881700|           1982987|                  35472|    66854|   135147|   433432|   698642|   648912|https://images.gr...|https://images.gr...|\n",
      "| 15|   48855|       48855| 3532896|        710| 553296981|9.78E+12|Anne Frank  Elean...|                     1947|Het Achterhuis: D...|The Diary of a Yo...|          eng|           4.1|      1972666|           2024493|                  20825|    45225|    91270|   355756|   656870|   875372|https://images.gr...|https://images.gr...|\n",
      "| 16| 2429135|     2429135| 1708725|        274| 307269752|9.78E+12|Stieg Larsson  Re...|                     2005|Män som hatar kvi...|The Girl with the...|          eng|          4.11|      1808403|           1929834|                  62543|    54835|    86051|   285413|   667485|   836050|https://images.gr...|https://images.gr...|\n",
      "| 17| 6148028|     6148028| 6171458|        201| 439023491|9.78E+12|     Suzanne Collins|                     2009|       Catching Fire|Catching Fire (Th...|          eng|           4.3|      1831039|           1988079|                  88538|    10492|    48030|   262010|   687238|   980309|https://images.gr...|https://images.gr...|\n",
      "| 18|       5|           5| 2402163|        376|043965548X|9.78E+12|J.K. Rowling  Mar...|                     1999|Harry Potter and ...|Harry Potter and ...|          eng|          4.53|      1832823|           1969375|                  36099|     6716|    20413|   166129|   509447|  1266670|https://images.gr...|https://images.gr...|\n",
      "| 19|      34|          34| 3204327|        566| 618346252|9.78E+12|      J.R.R. Tolkien|                     1954| The Fellowship o...|The Fellowship of...|          eng|          4.34|      1766803|           1832541|                  15333|    38031|    55862|   202332|   493922|  1042394|https://images.gr...|https://images.gr...|\n",
      "| 20| 7260188|     7260188| 8812783|        239| 439023513|9.78E+12|     Suzanne Collins|                     2010|          Mockingjay|Mockingjay (The H...|          eng|          4.03|      1719760|           1870748|                  96274|    30144|   110498|   373060|   618271|   738775|https://images.gr...|https://images.gr...|\n",
      "+---+--------+------------+--------+-----------+----------+--------+--------------------+-------------------------+--------------------+--------------------+-------------+--------------+-------------+------------------+-----------------------+---------+---------+---------+---------+---------+--------------------+--------------------+\n",
      "only showing top 20 rows\n",
      "\n"
     ]
    }
   ],
   "source": [
    "books.show()"
   ]
  },
  {
   "cell_type": "code",
   "execution_count": 7,
   "metadata": {},
   "outputs": [],
   "source": [
    "books.registerTempTable(\"df\")"
   ]
  },
  {
   "cell_type": "code",
   "execution_count": 8,
   "metadata": {},
   "outputs": [],
   "source": [
    "#Serach book by book id \n",
    "qry1 = spark.sql(\"select * from df where book_id = 3\")"
   ]
  },
  {
   "cell_type": "code",
   "execution_count": 9,
   "metadata": {},
   "outputs": [
    {
     "name": "stdout",
     "output_type": "stream",
     "text": [
      "+---+-------+------------+-------+-----------+---------+--------+--------------------+-------------------------+--------------------+--------------------+-------------+--------------+-------------+------------------+-----------------------+---------+---------+---------+---------+---------+--------------------+--------------------+\n",
      "| id|book_id|best_book_id|work_id|books_count|     isbn|  isbn13|             authors|original_publication_year|      original_title|               title|language_code|average_rating|ratings_count|work_ratings_count|work_text_reviews_count|ratings_1|ratings_2|ratings_3|ratings_4|ratings_5|           image_url|     small_image_url|\n",
      "+---+-------+------------+-------+-----------+---------+--------+--------------------+-------------------------+--------------------+--------------------+-------------+--------------+-------------+------------------+-----------------------+---------+---------+---------+---------+---------+--------------------+--------------------+\n",
      "|  2|      3|           3|4640799|        491|439554934|9.78E+12|J.K. Rowling  Mar...|                     1997|Harry Potter and ...|Harry Potter and ...|          eng|          4.44|      4602479|           4800065|                  75867|    75504|   101676|   455024|  1156318|  3011543|https://images.gr...|https://images.gr...|\n",
      "+---+-------+------------+-------+-----------+---------+--------+--------------------+-------------------------+--------------------+--------------------+-------------+--------------+-------------+------------------+-----------------------+---------+---------+---------+---------+---------+--------------------+--------------------+\n",
      "\n"
     ]
    }
   ],
   "source": [
    "qry1.show()"
   ]
  },
  {
   "cell_type": "code",
   "execution_count": 10,
   "metadata": {},
   "outputs": [],
   "source": [
    "#Query by top 10 rating/ Display average rating of each book\n",
    "#To dispaly all books drop the limit\n",
    "qry2 = spark.sql(\"select authors,original_publication_year,title,language_code,average_rating from df order by average_rating DESC limit 10\")"
   ]
  },
  {
   "cell_type": "code",
   "execution_count": 11,
   "metadata": {},
   "outputs": [
    {
     "name": "stdout",
     "output_type": "stream",
     "text": [
      "+--------------------+-------------------------+--------------------+-------------+--------------+\n",
      "|             authors|original_publication_year|               title|language_code|average_rating|\n",
      "+--------------------+-------------------------+--------------------+-------------+--------------+\n",
      "|      Bill Watterson|                     2005|The Complete Calv...|          eng|          4.82|\n",
      "|   Brandon Sanderson|                     2014|Words of Radiance...|          eng|          4.77|\n",
      "|J.K. Rowling  Mar...|                     2003|Harry Potter Boxe...|          eng|          4.77|\n",
      "|Anonymous  Lane T...|                     2002|     ESV Study Bible|          eng|          4.76|\n",
      "|     Francine Rivers|                     1993|Mark of the Lion ...|        en-US|          4.76|\n",
      "|      Bill Watterson|                     1996|It's a Magical Wo...|          eng|          4.75|\n",
      "|        J.K. Rowling|                     1998|Harry Potter Boxs...|          eng|          4.74|\n",
      "|      Bill Watterson|                     1996|There's Treasure ...|          eng|          4.74|\n",
      "|        J.K. Rowling|                     2005|Harry Potter Coll...|          eng|          4.73|\n",
      "|      Bill Watterson|                     1992|The Indispensable...|          eng|          4.73|\n",
      "+--------------------+-------------------------+--------------------+-------------+--------------+\n",
      "\n"
     ]
    }
   ],
   "source": [
    "qry2.show()"
   ]
  },
  {
   "cell_type": "code",
   "execution_count": 12,
   "metadata": {},
   "outputs": [],
   "source": [
    "#Query by bottom 10 rating\n",
    "qry3 = spark.sql(\"select authors,original_publication_year,title,language_code,average_rating from df order by average_rating limit 10\")"
   ]
  },
  {
   "cell_type": "code",
   "execution_count": 13,
   "metadata": {},
   "outputs": [
    {
     "name": "stdout",
     "output_type": "stream",
     "text": [
      "+--------------------+-------------------------+--------------------+-------------+--------------+\n",
      "|             authors|original_publication_year|               title|language_code|average_rating|\n",
      "+--------------------+-------------------------+--------------------+-------------+--------------+\n",
      "|       Chetan Bhagat|                     2005|One Night at the ...|          eng|          2.47|\n",
      "|        Alice Sebold|                     2007|     The Almost Moon|          eng|          2.67|\n",
      "|     Howard Jacobson|                     2010|The Finkler Question|          eng|          2.76|\n",
      "|    Candace Bushnell|                     2000|        Four Blondes|         null|           2.8|\n",
      "|Gregory Maguire  ...|                     2001|                Lost|          eng|           2.8|\n",
      "|      Julia Pierpont|                     2015|Among the Ten Tho...|          eng|          2.84|\n",
      "|     Chuck Palahniuk|                     2010|            Tell-All|         null|          2.84|\n",
      "|   Lauren Weisberger|                     2013|Revenge Wears Pra...|        en-US|          2.84|\n",
      "|       Claire Messud|                     2006|The Emperor's Chi...|         null|          2.93|\n",
      "|         Mark Haddon|                     2012|       The Red House|          eng|          2.93|\n",
      "+--------------------+-------------------------+--------------------+-------------+--------------+\n",
      "\n"
     ]
    }
   ],
   "source": [
    "qry3.show()"
   ]
  },
  {
   "cell_type": "code",
   "execution_count": 14,
   "metadata": {},
   "outputs": [],
   "source": [
    "#Find a book by authors name \n",
    "qry4 = spark.sql(\"select title,original_publication_year,language_code,authors from df where authors = 'Suzanne Collins' order by original_publication_year + 0 DESC \")"
   ]
  },
  {
   "cell_type": "code",
   "execution_count": 15,
   "metadata": {},
   "outputs": [
    {
     "name": "stdout",
     "output_type": "stream",
     "text": [
      "+--------------------+-------------------------+-------------+---------------+\n",
      "|               title|original_publication_year|language_code|        authors|\n",
      "+--------------------+-------------------------+-------------+---------------+\n",
      "|Mockingjay (The H...|                     2010|          eng|Suzanne Collins|\n",
      "|The Hunger Games ...|                     2010|          eng|Suzanne Collins|\n",
      "|Catching Fire (Th...|                     2009|          eng|Suzanne Collins|\n",
      "|The Hunger Games ...|                     2008|          eng|Suzanne Collins|\n",
      "|Gregor and the Co...|                     2007|         null|Suzanne Collins|\n",
      "|Gregor and the Ma...|                     2006|          eng|Suzanne Collins|\n",
      "|Gregor and the Cu...|                     2005|          eng|Suzanne Collins|\n",
      "|Gregor and the Pr...|                     2004|          eng|Suzanne Collins|\n",
      "|Gregor the Overla...|                     2003|          eng|Suzanne Collins|\n",
      "+--------------------+-------------------------+-------------+---------------+\n",
      "\n"
     ]
    }
   ],
   "source": [
    "qry4.show()"
   ]
  },
  {
   "cell_type": "code",
   "execution_count": 16,
   "metadata": {},
   "outputs": [],
   "source": [
    "#Top books by popularity calcuated using maximum ratings_count\n",
    "#ratings_count gives the idea about books that has been rated by maximum number of people \n",
    "#Popular book recommendation\n",
    "qry5 = spark.sql(\"select title,original_publication_year,language_code,authors,average_rating from df order by ratings_count limit 10\")"
   ]
  },
  {
   "cell_type": "code",
   "execution_count": 17,
   "metadata": {},
   "outputs": [
    {
     "name": "stdout",
     "output_type": "stream",
     "text": [
      "+--------------------+-------------------------+-------------+-------------------+--------------+\n",
      "|               title|original_publication_year|language_code|            authors|average_rating|\n",
      "+--------------------+-------------------------+-------------+-------------------+--------------+\n",
      "|Carter Beats the ...|                     2001|          eng|    Glen David Gold|          4.09|\n",
      "|           Leviathan|                     1992|          eng|        Paul Auster|          3.95|\n",
      "|        Coming Clean|                     2013|        en-US|Kimberly Rae Miller|          3.88|\n",
      "|     Keys to Drawing|                     1985|          eng|        Bert Dodson|             4|\n",
      "|       Dear Daughter|                     2014|          eng|   Elizabeth Little|          3.44|\n",
      "|Hope to Die (Alex...|                     2014|          eng|    James Patterson|          4.14|\n",
      "|           Cape Fear|                     1958|         null|  John D. MacDonald|          4.07|\n",
      "|         Most Wanted|                     2016|          eng|    Lisa Scottoline|          3.56|\n",
      "|Funny in Farsi: A...|                     2003|          eng|     Firoozeh Dumas|          3.76|\n",
      "|  Wreck This Journal|                     2007|         null|         Keri Smith|          4.19|\n",
      "+--------------------+-------------------------+-------------+-------------------+--------------+\n",
      "\n"
     ]
    }
   ],
   "source": [
    "qry5.show()"
   ]
  },
  {
   "cell_type": "code",
   "execution_count": 18,
   "metadata": {},
   "outputs": [],
   "source": [
    "#Books with similar rating\n",
    "qry6 = spark.sql(\"select title,original_publication_year,language_code,authors,average_rating from df where average_rating between 4 and 5 order by original_publication_year + 0 DESC \")"
   ]
  },
  {
   "cell_type": "code",
   "execution_count": 19,
   "metadata": {},
   "outputs": [
    {
     "name": "stdout",
     "output_type": "stream",
     "text": [
      "+--------------------+-------------------------+-------------+-----------------+--------------+\n",
      "|               title|original_publication_year|language_code|          authors|average_rating|\n",
      "+--------------------+-------------------------+-------------+-----------------+--------------+\n",
      "|     The Hate U Give|                     2017|          eng|     Angie Thomas|          4.62|\n",
      "|A Court of Wings ...|                     2017|          eng|    Sarah J. Maas|          4.54|\n",
      "|           Egomaniac|                     2017|         null|       Vi Keeland|          4.34|\n",
      "|King's Cage (Red ...|                     2017|          eng| Victoria Aveyard|          4.03|\n",
      "|     Norse Mythology|                     2017|          eng|      Neil Gaiman|          4.12|\n",
      "|The Dry (Aaron Fa...|                     2017|          eng|      Jane Harper|          4.07|\n",
      "|            Faithful|                     2017|          eng|    Alice Hoffman|          4.02|\n",
      "|End of Watch (Bil...|                     2016|          eng|     Stephen King|          4.09|\n",
      "|Talking as Fast a...|                     2016|          eng|    Lauren Graham|          4.04|\n",
      "|           Homegoing|                     2016|          eng|        Yaa Gyasi|          4.41|\n",
      "|Crooked Kingdom (...|                     2016|          eng|    Leigh Bardugo|          4.62|\n",
      "|         Lilac Girls|                     2016|          eng|Martha Hall Kelly|          4.31|\n",
      "|The Underground R...|                     2016|          eng| Colson Whitehead|          4.04|\n",
      "|     Salt to the Sea|                     2016|          eng|     Ruta Sepetys|          4.36|\n",
      "|Morning Star (Red...|                     2016|          eng|     Pierce Brown|           4.5|\n",
      "|Calamity (The Rec...|                     2016|          eng|Brandon Sanderson|           4.2|\n",
      "|The Bands of Mour...|                     2016|          eng|Brandon Sanderson|          4.45|\n",
      "|        I Let You Go|                     2016|        en-GB| Clare Mackintosh|          4.09|\n",
      "|A Court of Mist a...|                     2016|          eng|    Sarah J. Maas|          4.72|\n",
      "|Lady Midnight (Th...|                     2016|          eng|  Cassandra Clare|          4.47|\n",
      "+--------------------+-------------------------+-------------+-----------------+--------------+\n",
      "only showing top 20 rows\n",
      "\n"
     ]
    }
   ],
   "source": [
    "qry6.show()"
   ]
  },
  {
   "cell_type": "code",
   "execution_count": 20,
   "metadata": {},
   "outputs": [],
   "source": [
    "#Popular book by reviews\n",
    "# +0 forces a implicit conversion refer- StackOverFlow\n",
    "qry7 = spark.sql(\"select title,original_publication_year,language_code,authors,work_text_reviews_count from df order by work_text_reviews_count + 0 DESC limit 10\")"
   ]
  },
  {
   "cell_type": "code",
   "execution_count": 21,
   "metadata": {},
   "outputs": [
    {
     "name": "stdout",
     "output_type": "stream",
     "text": [
      "+--------------------+-------------------------+-------------+----------------+-----------------------+\n",
      "|               title|original_publication_year|language_code|         authors|work_text_reviews_count|\n",
      "+--------------------+-------------------------+-------------+----------------+-----------------------+\n",
      "|The Hunger Games ...|                     2008|          eng| Suzanne Collins|                 155254|\n",
      "|The Fault in Our ...|                     2012|          eng|      John Green|                 140739|\n",
      "|           Gone Girl|                     2012|          eng|   Gillian Flynn|                 121614|\n",
      "|Divergent (Diverg...|                     2011|          eng|   Veronica Roth|                 101023|\n",
      "|Mockingjay (The H...|                     2010|          eng| Suzanne Collins|                  96274|\n",
      "|Twilight (Twiligh...|                     2005|        en-US| Stephenie Meyer|                  95009|\n",
      "|      The Book Thief|                     2005|          eng|    Markus Zusak|                  93611|\n",
      "|The Girl on the T...|                     2015|          eng|   Paula Hawkins|                  93600|\n",
      "|Catching Fire (Th...|                     2009|          eng| Suzanne Collins|                  88538|\n",
      "|            The Help|                     2009|          eng|Kathryn Stockett|                  78204|\n",
      "+--------------------+-------------------------+-------------+----------------+-----------------------+\n",
      "\n"
     ]
    }
   ],
   "source": [
    "qry7.show()"
   ]
  },
  {
   "cell_type": "code",
   "execution_count": null,
   "metadata": {},
   "outputs": [],
   "source": []
  },
  {
   "cell_type": "code",
   "execution_count": null,
   "metadata": {},
   "outputs": [],
   "source": []
  },
  {
   "cell_type": "code",
   "execution_count": null,
   "metadata": {},
   "outputs": [],
   "source": []
  }
 ],
 "metadata": {
  "kernelspec": {
   "display_name": "Python 3",
   "language": "python",
   "name": "python3"
  },
  "language_info": {
   "codemirror_mode": {
    "name": "ipython",
    "version": 3
   },
   "file_extension": ".py",
   "mimetype": "text/x-python",
   "name": "python",
   "nbconvert_exporter": "python",
   "pygments_lexer": "ipython3",
   "version": "3.6.4"
  }
 },
 "nbformat": 4,
 "nbformat_minor": 2
}
